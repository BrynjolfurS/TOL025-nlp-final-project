{
 "cells": [
  {
   "cell_type": "code",
   "execution_count": null,
   "id": "f80140cc-222f-48eb-be5e-52fe3624e094",
   "metadata": {},
   "outputs": [],
   "source": [
    "# This notebook is for combining data gathered with the Steam API and from a downloaded Kaggle dataset"
   ]
  },
  {
   "cell_type": "code",
   "execution_count": 1,
   "id": "0ac64021-7c1d-45a1-b3bc-930162a01084",
   "metadata": {},
   "outputs": [],
   "source": [
    "import pandas as pd\n",
    "import re"
   ]
  },
  {
   "cell_type": "code",
   "execution_count": null,
   "id": "59ffa962-9168-41c2-8aeb-468249873561",
   "metadata": {},
   "outputs": [],
   "source": [
    "# All reviews\n",
    "df_steamAPI = pd.read_csv('reviews_from_json.csv')\n",
    "df_kaggle = pd.read_csv('steam_reviews.csv')"
   ]
  },
  {
   "cell_type": "code",
   "execution_count": null,
   "id": "d652935a-b034-4637-886b-5900d300e80d",
   "metadata": {},
   "outputs": [],
   "source": [
    "# Elden Ring: 1245620\n",
    "# Dark Souls, Remaster: 570940\n",
    "# Dark Souls 2: 236430\n",
    "# Dark Souls 2, Scholar: 335300\n",
    "# Dark Souls 3: 374320\n",
    "# Sekiro GOTY: 814380\n",
    "fromSoftfiles = [\n",
    "    'review_1245620.json','review_570940.json','review_236430.json',\n",
    "    'review_335300.json','review_374320.json','review_814380.json'\n",
    "]\n",
    "\n",
    "df = pd.DataFrame()\n",
    "for file in fromSoftfiles:\n",
    "    temp_df = pd.read_json(file)\n",
    "    df = pd.concat([df, temp_df], ignore_index=True)"
   ]
  },
  {
   "cell_type": "code",
   "execution_count": 9,
   "id": "cbe35f59-f99a-4ede-b8a2-8a559f15f008",
   "metadata": {},
   "outputs": [],
   "source": [
    "# Only keep rows where 'reviews' is a dictionary\n",
    "df = df[df['reviews'].apply(lambda x: isinstance(x, dict))]\n",
    "\n",
    "# Normalize the 'reviews' column\n",
    "expanded_reviews_df = pd.json_normalize(df['reviews'])\n",
    "\n",
    "# Concatenate it with your original dataframe if necessary\n",
    "df = pd.concat([df, expanded_reviews_df], axis=1)\n",
    "\n",
    "# Drop the original 'reviews' column as it is no longer needed\n",
    "df = df.drop(columns=['reviews'])\n",
    "\n",
    "# Save your dataframe to a CSV\n",
    "df.to_csv('FromSoft_reviews.csv')"
   ]
  },
  {
   "cell_type": "code",
   "execution_count": 27,
   "id": "d42fb16e-517d-492e-97f6-4afecd1f6870",
   "metadata": {},
   "outputs": [
    {
     "name": "stdout",
     "output_type": "stream",
     "text": [
      "<class 'pandas.core.frame.DataFrame'>\n",
      "RangeIndex: 338568 entries, 0 to 338567\n",
      "Data columns (total 27 columns):\n",
      " #   Column                          Non-Null Count   Dtype  \n",
      "---  ------                          --------------   -----  \n",
      " 0   Unnamed: 0                      338568 non-null  int64  \n",
      " 1   query_summary                   0 non-null       float64\n",
      " 2   cursors                         0 non-null       float64\n",
      " 3   recommendationid                338526 non-null  float64\n",
      " 4   language                        338526 non-null  object \n",
      " 5   review                          337686 non-null  object \n",
      " 6   timestamp_created               338526 non-null  float64\n",
      " 7   timestamp_updated               338526 non-null  float64\n",
      " 8   voted_up                        338526 non-null  object \n",
      " 9   votes_up                        338526 non-null  float64\n",
      " 10  votes_funny                     338526 non-null  float64\n",
      " 11  weighted_vote_score             338526 non-null  float64\n",
      " 12  comment_count                   338526 non-null  float64\n",
      " 13  steam_purchase                  338526 non-null  object \n",
      " 14  received_for_free               338526 non-null  object \n",
      " 15  written_during_early_access     338526 non-null  object \n",
      " 16  hidden_in_steam_china           338526 non-null  object \n",
      " 17  steam_china_location            0 non-null       float64\n",
      " 18  author.steamid                  338526 non-null  float64\n",
      " 19  author.num_games_owned          338526 non-null  float64\n",
      " 20  author.num_reviews              338526 non-null  float64\n",
      " 21  author.playtime_forever         338526 non-null  float64\n",
      " 22  author.playtime_last_two_weeks  338526 non-null  float64\n",
      " 23  author.playtime_at_review       338402 non-null  float64\n",
      " 24  author.last_played              338526 non-null  float64\n",
      " 25  timestamp_dev_responded         50 non-null      float64\n",
      " 26  developer_response              50 non-null      object \n",
      "dtypes: float64(18), int64(1), object(8)\n",
      "memory usage: 69.7+ MB\n"
     ]
    }
   ],
   "source": [
    "df_steamAPI.info()"
   ]
  },
  {
   "cell_type": "code",
   "execution_count": 28,
   "id": "5ce42226-b9fb-4788-bf08-df0f16bbc74c",
   "metadata": {},
   "outputs": [
    {
     "data": {
      "text/html": [
       "<div>\n",
       "<style scoped>\n",
       "    .dataframe tbody tr th:only-of-type {\n",
       "        vertical-align: middle;\n",
       "    }\n",
       "\n",
       "    .dataframe tbody tr th {\n",
       "        vertical-align: top;\n",
       "    }\n",
       "\n",
       "    .dataframe thead th {\n",
       "        text-align: right;\n",
       "    }\n",
       "</style>\n",
       "<table border=\"1\" class=\"dataframe\">\n",
       "  <thead>\n",
       "    <tr style=\"text-align: right;\">\n",
       "      <th></th>\n",
       "      <th>Unnamed: 0</th>\n",
       "      <th>query_summary</th>\n",
       "      <th>cursors</th>\n",
       "      <th>recommendationid</th>\n",
       "      <th>language</th>\n",
       "      <th>review</th>\n",
       "      <th>timestamp_created</th>\n",
       "      <th>timestamp_updated</th>\n",
       "      <th>voted_up</th>\n",
       "      <th>votes_up</th>\n",
       "      <th>...</th>\n",
       "      <th>steam_china_location</th>\n",
       "      <th>author.steamid</th>\n",
       "      <th>author.num_games_owned</th>\n",
       "      <th>author.num_reviews</th>\n",
       "      <th>author.playtime_forever</th>\n",
       "      <th>author.playtime_last_two_weeks</th>\n",
       "      <th>author.playtime_at_review</th>\n",
       "      <th>author.last_played</th>\n",
       "      <th>timestamp_dev_responded</th>\n",
       "      <th>developer_response</th>\n",
       "    </tr>\n",
       "  </thead>\n",
       "  <tbody>\n",
       "    <tr>\n",
       "      <th>0</th>\n",
       "      <td>0</td>\n",
       "      <td>NaN</td>\n",
       "      <td>NaN</td>\n",
       "      <td>163751705.0</td>\n",
       "      <td>english</td>\n",
       "      <td>Addicted\\n</td>\n",
       "      <td>1.714284e+09</td>\n",
       "      <td>1.714284e+09</td>\n",
       "      <td>True</td>\n",
       "      <td>0.0</td>\n",
       "      <td>...</td>\n",
       "      <td>NaN</td>\n",
       "      <td>7.656120e+16</td>\n",
       "      <td>0.0</td>\n",
       "      <td>9.0</td>\n",
       "      <td>1850.0</td>\n",
       "      <td>1850.0</td>\n",
       "      <td>1850.0</td>\n",
       "      <td>1.714284e+09</td>\n",
       "      <td>NaN</td>\n",
       "      <td>NaN</td>\n",
       "    </tr>\n",
       "    <tr>\n",
       "      <th>1</th>\n",
       "      <td>1</td>\n",
       "      <td>NaN</td>\n",
       "      <td>NaN</td>\n",
       "      <td>163721470.0</td>\n",
       "      <td>english</td>\n",
       "      <td>great game</td>\n",
       "      <td>1.714246e+09</td>\n",
       "      <td>1.714246e+09</td>\n",
       "      <td>True</td>\n",
       "      <td>0.0</td>\n",
       "      <td>...</td>\n",
       "      <td>NaN</td>\n",
       "      <td>7.656120e+16</td>\n",
       "      <td>0.0</td>\n",
       "      <td>3.0</td>\n",
       "      <td>13013.0</td>\n",
       "      <td>5575.0</td>\n",
       "      <td>13013.0</td>\n",
       "      <td>1.714246e+09</td>\n",
       "      <td>NaN</td>\n",
       "      <td>NaN</td>\n",
       "    </tr>\n",
       "    <tr>\n",
       "      <th>2</th>\n",
       "      <td>2</td>\n",
       "      <td>NaN</td>\n",
       "      <td>NaN</td>\n",
       "      <td>163627781.0</td>\n",
       "      <td>english</td>\n",
       "      <td>Fun Co-op game</td>\n",
       "      <td>1.714146e+09</td>\n",
       "      <td>1.714146e+09</td>\n",
       "      <td>True</td>\n",
       "      <td>0.0</td>\n",
       "      <td>...</td>\n",
       "      <td>NaN</td>\n",
       "      <td>7.656120e+16</td>\n",
       "      <td>0.0</td>\n",
       "      <td>1.0</td>\n",
       "      <td>2061.0</td>\n",
       "      <td>2061.0</td>\n",
       "      <td>465.0</td>\n",
       "      <td>1.714311e+09</td>\n",
       "      <td>NaN</td>\n",
       "      <td>NaN</td>\n",
       "    </tr>\n",
       "    <tr>\n",
       "      <th>3</th>\n",
       "      <td>3</td>\n",
       "      <td>NaN</td>\n",
       "      <td>NaN</td>\n",
       "      <td>163623793.0</td>\n",
       "      <td>schinese</td>\n",
       "      <td>单人魂游，多人爽游</td>\n",
       "      <td>1.714142e+09</td>\n",
       "      <td>1.714142e+09</td>\n",
       "      <td>True</td>\n",
       "      <td>0.0</td>\n",
       "      <td>...</td>\n",
       "      <td>NaN</td>\n",
       "      <td>7.656120e+16</td>\n",
       "      <td>214.0</td>\n",
       "      <td>135.0</td>\n",
       "      <td>92.0</td>\n",
       "      <td>0.0</td>\n",
       "      <td>92.0</td>\n",
       "      <td>1.712632e+09</td>\n",
       "      <td>NaN</td>\n",
       "      <td>NaN</td>\n",
       "    </tr>\n",
       "    <tr>\n",
       "      <th>4</th>\n",
       "      <td>4</td>\n",
       "      <td>NaN</td>\n",
       "      <td>NaN</td>\n",
       "      <td>163618609.0</td>\n",
       "      <td>koreana</td>\n",
       "      <td>가격대 이상의 재미.\\r\\n늦게 알아서 패치는 이제 없겠지 ㅜ 갓겜</td>\n",
       "      <td>1.714137e+09</td>\n",
       "      <td>1.714137e+09</td>\n",
       "      <td>True</td>\n",
       "      <td>0.0</td>\n",
       "      <td>...</td>\n",
       "      <td>NaN</td>\n",
       "      <td>7.656120e+16</td>\n",
       "      <td>0.0</td>\n",
       "      <td>1.0</td>\n",
       "      <td>2743.0</td>\n",
       "      <td>0.0</td>\n",
       "      <td>2743.0</td>\n",
       "      <td>1.702132e+09</td>\n",
       "      <td>NaN</td>\n",
       "      <td>NaN</td>\n",
       "    </tr>\n",
       "  </tbody>\n",
       "</table>\n",
       "<p>5 rows × 27 columns</p>\n",
       "</div>"
      ],
      "text/plain": [
       "   Unnamed: 0  query_summary  cursors  recommendationid  language  \\\n",
       "0           0            NaN      NaN       163751705.0   english   \n",
       "1           1            NaN      NaN       163721470.0   english   \n",
       "2           2            NaN      NaN       163627781.0   english   \n",
       "3           3            NaN      NaN       163623793.0  schinese   \n",
       "4           4            NaN      NaN       163618609.0   koreana   \n",
       "\n",
       "                                  review  timestamp_created  \\\n",
       "0                             Addicted\\n       1.714284e+09   \n",
       "1                             great game       1.714246e+09   \n",
       "2                         Fun Co-op game       1.714146e+09   \n",
       "3                              单人魂游，多人爽游       1.714142e+09   \n",
       "4  가격대 이상의 재미.\\r\\n늦게 알아서 패치는 이제 없겠지 ㅜ 갓겜       1.714137e+09   \n",
       "\n",
       "   timestamp_updated voted_up  votes_up  ...  steam_china_location  \\\n",
       "0       1.714284e+09     True       0.0  ...                   NaN   \n",
       "1       1.714246e+09     True       0.0  ...                   NaN   \n",
       "2       1.714146e+09     True       0.0  ...                   NaN   \n",
       "3       1.714142e+09     True       0.0  ...                   NaN   \n",
       "4       1.714137e+09     True       0.0  ...                   NaN   \n",
       "\n",
       "   author.steamid  author.num_games_owned author.num_reviews  \\\n",
       "0    7.656120e+16                     0.0                9.0   \n",
       "1    7.656120e+16                     0.0                3.0   \n",
       "2    7.656120e+16                     0.0                1.0   \n",
       "3    7.656120e+16                   214.0              135.0   \n",
       "4    7.656120e+16                     0.0                1.0   \n",
       "\n",
       "  author.playtime_forever author.playtime_last_two_weeks  \\\n",
       "0                  1850.0                         1850.0   \n",
       "1                 13013.0                         5575.0   \n",
       "2                  2061.0                         2061.0   \n",
       "3                    92.0                            0.0   \n",
       "4                  2743.0                            0.0   \n",
       "\n",
       "  author.playtime_at_review  author.last_played  timestamp_dev_responded  \\\n",
       "0                    1850.0        1.714284e+09                      NaN   \n",
       "1                   13013.0        1.714246e+09                      NaN   \n",
       "2                     465.0        1.714311e+09                      NaN   \n",
       "3                      92.0        1.712632e+09                      NaN   \n",
       "4                    2743.0        1.702132e+09                      NaN   \n",
       "\n",
       "   developer_response  \n",
       "0                 NaN  \n",
       "1                 NaN  \n",
       "2                 NaN  \n",
       "3                 NaN  \n",
       "4                 NaN  \n",
       "\n",
       "[5 rows x 27 columns]"
      ]
     },
     "execution_count": 28,
     "metadata": {},
     "output_type": "execute_result"
    }
   ],
   "source": [
    "df_steamAPI.head()"
   ]
  },
  {
   "cell_type": "code",
   "execution_count": 29,
   "id": "48f65132-c5f6-4864-b081-0b8fe8ac7f76",
   "metadata": {},
   "outputs": [
    {
     "name": "stdout",
     "output_type": "stream",
     "text": [
      "<class 'pandas.core.frame.DataFrame'>\n",
      "RangeIndex: 434891 entries, 0 to 434890\n",
      "Data columns (total 8 columns):\n",
      " #   Column                  Non-Null Count   Dtype \n",
      "---  ------                  --------------   ----- \n",
      " 0   date_posted             434891 non-null  object\n",
      " 1   funny                   434891 non-null  int64 \n",
      " 2   helpful                 434891 non-null  int64 \n",
      " 3   hour_played             434891 non-null  int64 \n",
      " 4   is_early_access_review  434891 non-null  bool  \n",
      " 5   recommendation          434891 non-null  object\n",
      " 6   review                  433375 non-null  object\n",
      " 7   title                   434891 non-null  object\n",
      "dtypes: bool(1), int64(3), object(4)\n",
      "memory usage: 23.6+ MB\n"
     ]
    }
   ],
   "source": [
    "df_kaggle.info()"
   ]
  },
  {
   "cell_type": "code",
   "execution_count": 30,
   "id": "622f2968-99b4-432e-9ead-934827c1cb07",
   "metadata": {},
   "outputs": [
    {
     "data": {
      "text/html": [
       "<div>\n",
       "<style scoped>\n",
       "    .dataframe tbody tr th:only-of-type {\n",
       "        vertical-align: middle;\n",
       "    }\n",
       "\n",
       "    .dataframe tbody tr th {\n",
       "        vertical-align: top;\n",
       "    }\n",
       "\n",
       "    .dataframe thead th {\n",
       "        text-align: right;\n",
       "    }\n",
       "</style>\n",
       "<table border=\"1\" class=\"dataframe\">\n",
       "  <thead>\n",
       "    <tr style=\"text-align: right;\">\n",
       "      <th></th>\n",
       "      <th>date_posted</th>\n",
       "      <th>funny</th>\n",
       "      <th>helpful</th>\n",
       "      <th>hour_played</th>\n",
       "      <th>is_early_access_review</th>\n",
       "      <th>recommendation</th>\n",
       "      <th>review</th>\n",
       "      <th>title</th>\n",
       "    </tr>\n",
       "  </thead>\n",
       "  <tbody>\n",
       "    <tr>\n",
       "      <th>0</th>\n",
       "      <td>2019-02-10</td>\n",
       "      <td>2</td>\n",
       "      <td>4</td>\n",
       "      <td>578</td>\n",
       "      <td>False</td>\n",
       "      <td>Recommended</td>\n",
       "      <td>&amp;gt Played as German Reich&amp;gt Declare war on B...</td>\n",
       "      <td>Expansion - Hearts of Iron IV: Man the Guns</td>\n",
       "    </tr>\n",
       "    <tr>\n",
       "      <th>1</th>\n",
       "      <td>2019-02-10</td>\n",
       "      <td>0</td>\n",
       "      <td>0</td>\n",
       "      <td>184</td>\n",
       "      <td>False</td>\n",
       "      <td>Recommended</td>\n",
       "      <td>yes.</td>\n",
       "      <td>Expansion - Hearts of Iron IV: Man the Guns</td>\n",
       "    </tr>\n",
       "    <tr>\n",
       "      <th>2</th>\n",
       "      <td>2019-02-07</td>\n",
       "      <td>0</td>\n",
       "      <td>0</td>\n",
       "      <td>892</td>\n",
       "      <td>False</td>\n",
       "      <td>Recommended</td>\n",
       "      <td>Very good game although a bit overpriced in my...</td>\n",
       "      <td>Expansion - Hearts of Iron IV: Man the Guns</td>\n",
       "    </tr>\n",
       "    <tr>\n",
       "      <th>3</th>\n",
       "      <td>2018-06-14</td>\n",
       "      <td>126</td>\n",
       "      <td>1086</td>\n",
       "      <td>676</td>\n",
       "      <td>False</td>\n",
       "      <td>Recommended</td>\n",
       "      <td>Out of all the reviews I wrote This one is pro...</td>\n",
       "      <td>Dead by Daylight</td>\n",
       "    </tr>\n",
       "    <tr>\n",
       "      <th>4</th>\n",
       "      <td>2017-06-20</td>\n",
       "      <td>85</td>\n",
       "      <td>2139</td>\n",
       "      <td>612</td>\n",
       "      <td>False</td>\n",
       "      <td>Recommended</td>\n",
       "      <td>Disclaimer I survivor main. I play games for f...</td>\n",
       "      <td>Dead by Daylight</td>\n",
       "    </tr>\n",
       "  </tbody>\n",
       "</table>\n",
       "</div>"
      ],
      "text/plain": [
       "  date_posted  funny  helpful  hour_played  is_early_access_review  \\\n",
       "0  2019-02-10      2        4          578                   False   \n",
       "1  2019-02-10      0        0          184                   False   \n",
       "2  2019-02-07      0        0          892                   False   \n",
       "3  2018-06-14    126     1086          676                   False   \n",
       "4  2017-06-20     85     2139          612                   False   \n",
       "\n",
       "  recommendation                                             review  \\\n",
       "0    Recommended  &gt Played as German Reich&gt Declare war on B...   \n",
       "1    Recommended                                               yes.   \n",
       "2    Recommended  Very good game although a bit overpriced in my...   \n",
       "3    Recommended  Out of all the reviews I wrote This one is pro...   \n",
       "4    Recommended  Disclaimer I survivor main. I play games for f...   \n",
       "\n",
       "                                         title  \n",
       "0  Expansion - Hearts of Iron IV: Man the Guns  \n",
       "1  Expansion - Hearts of Iron IV: Man the Guns  \n",
       "2  Expansion - Hearts of Iron IV: Man the Guns  \n",
       "3                             Dead by Daylight  \n",
       "4                             Dead by Daylight  "
      ]
     },
     "execution_count": 30,
     "metadata": {},
     "output_type": "execute_result"
    }
   ],
   "source": [
    "df_kaggle.head()"
   ]
  },
  {
   "cell_type": "code",
   "execution_count": 31,
   "id": "f6b2fddf-b305-4b46-8288-d3f44e08703a",
   "metadata": {},
   "outputs": [],
   "source": [
    "#Drop Nulls\n",
    "df_steamAPI.dropna(subset=['review'], inplace=True)\n",
    "df_kaggle.dropna(subset=['review'], inplace=True)\n",
    "\n",
    "#Keep only English reviews from the API dataset\n",
    "df_steamAPI = df_steamAPI[df_steamAPI['language'] == 'english']\n",
    "\n",
    "# Create a mask where each review has more than one word and at least one alphabetic character\n",
    "mask = df_steamAPI['review'].apply(lambda x: len(re.findall(r'\\b\\w+\\b', str(x))) > 5 and bool(re.search('[a-zA-Z]', str(x))))\n",
    "\n",
    "# Apply the mask to the DataFrame to filter out reviews\n",
    "df_steamAPI = df_steamAPI[mask]"
   ]
  },
  {
   "cell_type": "code",
   "execution_count": 32,
   "id": "1a7a09cc-21d8-4dc4-a9de-2d232006fb82",
   "metadata": {},
   "outputs": [
    {
     "name": "stdout",
     "output_type": "stream",
     "text": [
      "<class 'pandas.core.frame.DataFrame'>\n",
      "Index: 208424 entries, 5 to 338567\n",
      "Data columns (total 27 columns):\n",
      " #   Column                          Non-Null Count   Dtype  \n",
      "---  ------                          --------------   -----  \n",
      " 0   Unnamed: 0                      208424 non-null  int64  \n",
      " 1   query_summary                   0 non-null       float64\n",
      " 2   cursors                         0 non-null       float64\n",
      " 3   recommendationid                208424 non-null  float64\n",
      " 4   language                        208424 non-null  object \n",
      " 5   review                          208424 non-null  object \n",
      " 6   timestamp_created               208424 non-null  float64\n",
      " 7   timestamp_updated               208424 non-null  float64\n",
      " 8   voted_up                        208424 non-null  object \n",
      " 9   votes_up                        208424 non-null  float64\n",
      " 10  votes_funny                     208424 non-null  float64\n",
      " 11  weighted_vote_score             208424 non-null  float64\n",
      " 12  comment_count                   208424 non-null  float64\n",
      " 13  steam_purchase                  208424 non-null  object \n",
      " 14  received_for_free               208424 non-null  object \n",
      " 15  written_during_early_access     208424 non-null  object \n",
      " 16  hidden_in_steam_china           208424 non-null  object \n",
      " 17  steam_china_location            0 non-null       float64\n",
      " 18  author.steamid                  208424 non-null  float64\n",
      " 19  author.num_games_owned          208424 non-null  float64\n",
      " 20  author.num_reviews              208424 non-null  float64\n",
      " 21  author.playtime_forever         208424 non-null  float64\n",
      " 22  author.playtime_last_two_weeks  208424 non-null  float64\n",
      " 23  author.playtime_at_review       208324 non-null  float64\n",
      " 24  author.last_played              208424 non-null  float64\n",
      " 25  timestamp_dev_responded         32 non-null      float64\n",
      " 26  developer_response              32 non-null      object \n",
      "dtypes: float64(18), int64(1), object(8)\n",
      "memory usage: 44.5+ MB\n"
     ]
    }
   ],
   "source": [
    "# More than 100k reviews dropped (non-english or non-usable review text)\n",
    "df_steamAPI.info()"
   ]
  },
  {
   "cell_type": "code",
   "execution_count": 34,
   "id": "703380fa-3246-46e9-aa1f-9c85bcc2f972",
   "metadata": {},
   "outputs": [],
   "source": [
    "# Take only review and recommendation/label columns\n",
    "df_steamAPI['Texts'] = df_steamAPI.iloc[:, 5]\n",
    "df_steamAPI['Label'] = df_steamAPI.iloc[:, 8]\n",
    "df_steamAPI = df_steamAPI[['Texts', 'Label']]\n",
    "\n",
    "df_kaggle['Texts'] = df_kaggle.iloc[:, 6]\n",
    "df_kaggle['Label'] = df_kaggle.iloc[:, 5]\n",
    "df_kaggle = df_kaggle[['Texts', 'Label']]"
   ]
  },
  {
   "cell_type": "code",
   "execution_count": 41,
   "id": "fef2efd9-0fb7-4ed6-b114-6b68fba00a0f",
   "metadata": {},
   "outputs": [
    {
     "data": {
      "text/plain": [
       "array([1, 0])"
      ]
     },
     "execution_count": 41,
     "metadata": {},
     "output_type": "execute_result"
    }
   ],
   "source": [
    "df_steamAPI.Label.unique()"
   ]
  },
  {
   "cell_type": "code",
   "execution_count": 42,
   "id": "23ede050-8cf1-4a48-9993-6dd22a8aad9f",
   "metadata": {},
   "outputs": [
    {
     "data": {
      "text/plain": [
       "array([1, 0], dtype=int64)"
      ]
     },
     "execution_count": 42,
     "metadata": {},
     "output_type": "execute_result"
    }
   ],
   "source": [
    "df_kaggle.Label.unique()"
   ]
  },
  {
   "cell_type": "code",
   "execution_count": 40,
   "id": "0a9eb794-6dff-4296-a3ac-764e0017a16c",
   "metadata": {},
   "outputs": [
    {
     "name": "stderr",
     "output_type": "stream",
     "text": [
      "C:\\Users\\brynj\\AppData\\Local\\Temp\\ipykernel_10664\\3139352698.py:3: FutureWarning: Downcasting behavior in `replace` is deprecated and will be removed in a future version. To retain the old behavior, explicitly call `result.infer_objects(copy=False)`. To opt-in to the future behavior, set `pd.set_option('future.no_silent_downcasting', True)`\n",
      "  df_kaggle['Label'] = df_kaggle['Label'].replace({'Recommended': 1, 'Not Recommended': 0})\n",
      "C:\\Users\\brynj\\AppData\\Local\\Temp\\ipykernel_10664\\3139352698.py:6: SettingWithCopyWarning: \n",
      "A value is trying to be set on a copy of a slice from a DataFrame.\n",
      "Try using .loc[row_indexer,col_indexer] = value instead\n",
      "\n",
      "See the caveats in the documentation: https://pandas.pydata.org/pandas-docs/stable/user_guide/indexing.html#returning-a-view-versus-a-copy\n",
      "  df_steamAPI['Label'] = df_steamAPI['Label'].astype(int)\n"
     ]
    }
   ],
   "source": [
    "# Replace values in 'Label' columns so that True or 'Recommended' becomes 1 and false or 'Not recommended' becomes 0\n",
    "\n",
    "df_kaggle['Label'] = df_kaggle['Label'].replace({'Recommended': 1, 'Not Recommended': 0})\n",
    "\n",
    "# Convert boolean to integer (True -> 1, False -> 0)\n",
    "df_steamAPI['Label'] = df_steamAPI['Label'].astype(int)"
   ]
  },
  {
   "cell_type": "code",
   "execution_count": 47,
   "id": "fd83de1e-8061-412d-a9c6-8dc9d53a9adc",
   "metadata": {},
   "outputs": [
    {
     "name": "stdout",
     "output_type": "stream",
     "text": [
      "<class 'pandas.core.frame.DataFrame'>\n",
      "Index: 208424 entries, 5 to 338567\n",
      "Data columns (total 2 columns):\n",
      " #   Column  Non-Null Count   Dtype \n",
      "---  ------  --------------   ----- \n",
      " 0   Texts   208424 non-null  object\n",
      " 1   Label   208424 non-null  int32 \n",
      "dtypes: int32(1), object(1)\n",
      "memory usage: 4.0+ MB\n"
     ]
    }
   ],
   "source": [
    "df_steamAPI.info()"
   ]
  },
  {
   "cell_type": "code",
   "execution_count": 48,
   "id": "f8fb8448-aa12-4940-8e48-1fc23b2bb5e3",
   "metadata": {},
   "outputs": [
    {
     "name": "stdout",
     "output_type": "stream",
     "text": [
      "<class 'pandas.core.frame.DataFrame'>\n",
      "Index: 433375 entries, 0 to 434890\n",
      "Data columns (total 2 columns):\n",
      " #   Column  Non-Null Count   Dtype \n",
      "---  ------  --------------   ----- \n",
      " 0   Texts   433375 non-null  object\n",
      " 1   Label   433375 non-null  int64 \n",
      "dtypes: int64(1), object(1)\n",
      "memory usage: 9.9+ MB\n"
     ]
    }
   ],
   "source": [
    "df_kaggle.info()"
   ]
  },
  {
   "cell_type": "code",
   "execution_count": 50,
   "id": "b2ee2c61-d929-4ac2-842d-788a09dae118",
   "metadata": {},
   "outputs": [],
   "source": [
    "# Concatenate the dataframes\n",
    "concatenated_df = pd.concat([df_steamAPI, df_kaggle], ignore_index=True)"
   ]
  },
  {
   "cell_type": "code",
   "execution_count": 52,
   "id": "14169399-690a-4b26-b021-e8d366f8b6ee",
   "metadata": {},
   "outputs": [
    {
     "data": {
      "text/html": [
       "<div>\n",
       "<style scoped>\n",
       "    .dataframe tbody tr th:only-of-type {\n",
       "        vertical-align: middle;\n",
       "    }\n",
       "\n",
       "    .dataframe tbody tr th {\n",
       "        vertical-align: top;\n",
       "    }\n",
       "\n",
       "    .dataframe thead th {\n",
       "        text-align: right;\n",
       "    }\n",
       "</style>\n",
       "<table border=\"1\" class=\"dataframe\">\n",
       "  <thead>\n",
       "    <tr style=\"text-align: right;\">\n",
       "      <th></th>\n",
       "      <th>Texts</th>\n",
       "      <th>Label</th>\n",
       "    </tr>\n",
       "  </thead>\n",
       "  <tbody>\n",
       "    <tr>\n",
       "      <th>0</th>\n",
       "      <td>Came in expecting a mid game. Come out being i...</td>\n",
       "      <td>1</td>\n",
       "    </tr>\n",
       "    <tr>\n",
       "      <th>1</th>\n",
       "      <td>Would be nice if there where more maps</td>\n",
       "      <td>1</td>\n",
       "    </tr>\n",
       "    <tr>\n",
       "      <th>2</th>\n",
       "      <td>i love these flamey lil guys :3</td>\n",
       "      <td>1</td>\n",
       "    </tr>\n",
       "    <tr>\n",
       "      <th>3</th>\n",
       "      <td>this game is so good it is hard but fun at the...</td>\n",
       "      <td>1</td>\n",
       "    </tr>\n",
       "    <tr>\n",
       "      <th>4</th>\n",
       "      <td>I got this game free at PAX 2024, not only did...</td>\n",
       "      <td>1</td>\n",
       "    </tr>\n",
       "  </tbody>\n",
       "</table>\n",
       "</div>"
      ],
      "text/plain": [
       "                                               Texts  Label\n",
       "0  Came in expecting a mid game. Come out being i...      1\n",
       "1             Would be nice if there where more maps      1\n",
       "2                    i love these flamey lil guys :3      1\n",
       "3  this game is so good it is hard but fun at the...      1\n",
       "4  I got this game free at PAX 2024, not only did...      1"
      ]
     },
     "execution_count": 52,
     "metadata": {},
     "output_type": "execute_result"
    }
   ],
   "source": [
    "concatenated_df.head()"
   ]
  },
  {
   "cell_type": "code",
   "execution_count": 55,
   "id": "da280dae-2b1d-4347-85ea-27ec460ea539",
   "metadata": {},
   "outputs": [],
   "source": [
    "# Save to csv file\n",
    "concatenated_df.to_csv('total_reviews_text_and_label.csv')"
   ]
  }
 ],
 "metadata": {
  "kernelspec": {
   "display_name": "Python 3 (ipykernel)",
   "language": "python",
   "name": "python3"
  },
  "language_info": {
   "codemirror_mode": {
    "name": "ipython",
    "version": 3
   },
   "file_extension": ".py",
   "mimetype": "text/x-python",
   "name": "python",
   "nbconvert_exporter": "python",
   "pygments_lexer": "ipython3",
   "version": "3.12.1"
  }
 },
 "nbformat": 4,
 "nbformat_minor": 5
}
