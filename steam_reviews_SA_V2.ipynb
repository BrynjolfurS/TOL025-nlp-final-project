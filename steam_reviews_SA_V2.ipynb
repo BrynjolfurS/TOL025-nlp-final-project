{
 "cells": [
  {
   "cell_type": "code",
   "execution_count": null,
   "id": "9356af5b-0ef9-40bf-9bb8-8500d19dbc42",
   "metadata": {},
   "outputs": [],
   "source": [
    "# Til að nota gpu: starta tf_gpu environment og starta lab í rót verkefnis\n",
    "\n",
    "import sys\n",
    "#!pip install tensorflow[and-cuda]\n",
    "!pip install tensorflow\n",
    "!pip install keras"
   ]
  },
  {
   "cell_type": "code",
   "execution_count": 6,
   "id": "a3cb0128-cf8e-4631-867c-f0749d42663a",
   "metadata": {},
   "outputs": [
    {
     "name": "stdout",
     "output_type": "stream",
     "text": [
      "Python version\n",
      "3.10.14 | packaged by Anaconda, Inc. | (main, May  6 2024, 19:44:50) [MSC v.1916 64 bit (AMD64)]\n"
     ]
    }
   ],
   "source": [
    "print(\"Python version\")\n",
    "print(sys.version)"
   ]
  },
  {
   "cell_type": "code",
   "execution_count": 8,
   "id": "75ad17f8-7c7f-45a1-991e-45c3daecc326",
   "metadata": {},
   "outputs": [
    {
     "name": "stdout",
     "output_type": "stream",
     "text": [
      "GPU found with ID:  PhysicalDevice(name='/physical_device:GPU:0', device_type='GPU')\n"
     ]
    }
   ],
   "source": [
    "import tensorflow as tf\n",
    "\n",
    "gpus = tf.config.list_physical_devices('GPU')\n",
    "if gpus:\n",
    "    for gpu in gpus:\n",
    "        print(\"GPU found with ID: \", gpu)\n",
    "else:\n",
    "    print(\"Failed to detect GPU.\")"
   ]
  },
  {
   "cell_type": "code",
   "execution_count": 22,
   "id": "b23a4fea-4de8-4d32-ab17-25704ac91b64",
   "metadata": {},
   "outputs": [],
   "source": [
    "import pandas as pd\n",
    "import seaborn as sns\n",
    "import matplotlib.pyplot as plt\n",
    "import numpy as np\n",
    "#from tensorflow import keras\n",
    "import keras\n",
    "\n",
    "# REMINDER: keras modules should run despite missing import warnings (lazy loading?)\n",
    "from keras.layers import TextVectorization"
   ]
  },
  {
   "cell_type": "code",
   "execution_count": 13,
   "id": "7ca2cdff-4464-4307-be90-fbf92e29b612",
   "metadata": {},
   "outputs": [
    {
     "name": "stdout",
     "output_type": "stream",
     "text": [
      "<class 'pandas.core.frame.DataFrame'>\n",
      "RangeIndex: 641799 entries, 0 to 641798\n",
      "Data columns (total 3 columns):\n",
      " #   Column      Non-Null Count   Dtype \n",
      "---  ------      --------------   ----- \n",
      " 0   Unnamed: 0  641799 non-null  int64 \n",
      " 1   Texts       641799 non-null  object\n",
      " 2   Label       641799 non-null  int64 \n",
      "dtypes: int64(2), object(1)\n",
      "memory usage: 14.7+ MB\n"
     ]
    }
   ],
   "source": [
    "# Load the reviews dataset into a pandas DataFrame\n",
    "df = pd.read_csv('data/total_reviews_text_and_label.csv')\n",
    "df.info()"
   ]
  },
  {
   "cell_type": "code",
   "execution_count": 14,
   "id": "b58cb86f-68f6-46b0-95fa-beb5026105f5",
   "metadata": {},
   "outputs": [
    {
     "data": {
      "text/plain": [
       "[]"
      ]
     },
     "execution_count": 14,
     "metadata": {},
     "output_type": "execute_result"
    },
    {
     "data": {
      "image/png": "[encoded data removed]",
      "text/plain": [
       "<Figure size 700x400 with 1 Axes>"
      ]
     },
     "metadata": {},
     "output_type": "display_data"
    }
   ],
   "source": [
    "# Class division of positive and negative labels (User recommendations)\n",
    "plt.figure(figsize=[7,4])\n",
    "sns.countplot(x = df['Label'], data=df)\n",
    "plt.plot()\n",
    "\n",
    "# Skew may affect weight of classes? Check PyTorch WeightedRandomSampler for exmpl"
   ]
  },
  {
   "cell_type": "code",
   "execution_count": 15,
   "id": "fefea285-dc57-4b54-842c-054f202600a6",
   "metadata": {},
   "outputs": [],
   "source": [
    "### Dataset sample size for training ###\n",
    "# Crashes with the complete dataset\n",
    "\n",
    "n = 50000\n",
    "\n",
    "df = df.sample(n)"
   ]
  },
  {
   "cell_type": "code",
   "execution_count": 19,
   "id": "e272f291-0bf1-450a-a8cc-b25691359349",
   "metadata": {},
   "outputs": [],
   "source": [
    "import re\n",
    "import string\n",
    "\n",
    "# Processes review text to make it easier for the models to work with\n",
    "def text_preprocess(text):\n",
    "  text = re.sub(r'[^a-zA-Z\\s]', \"\", text)\n",
    "  # Remove punctuation marks\n",
    "  text = re.sub(r'[^\\w\\s]', '', text)\n",
    "  # Remove links\n",
    "  text = re.sub(r'http\\S+', '', text)\n",
    "  text = text.replace('<unk>', 'UNKNOWN_TOKEN')\n",
    "\n",
    "  arr = []\n",
    "  for i in text:\n",
    "    # Removes other symbols: !\"#$%&'()*+, -./:;<=>?@[\\]^_`{|}~\n",
    "      if i in string.punctuation:\n",
    "          arr.append(\"\")\n",
    "      else:\n",
    "          arr.append(i)\n",
    "  return \"\".join(arr).lower()\n",
    "\n",
    "df[\"Texts\"] = df[\"Texts\"].apply(text_preprocess)"
   ]
  },
  {
   "cell_type": "code",
   "execution_count": 23,
   "id": "92beffc8-d9c0-419e-8912-63afdaab1504",
   "metadata": {},
   "outputs": [],
   "source": [
    "from keras.preprocessing.text import Tokenizer\n",
    "from keras.utils import pad_sequences\n",
    "max_length = 2000\n",
    "vocabs = 10000\n",
    "\n",
    "# More text preprocessing specific to the model\n",
    "def convert_to_number(text):\n",
    "  tokenizer = Tokenizer(\n",
    "      num_words=vocabs,\n",
    "      filters='!\"#$%&()*+,-./:;<=>?@[\\\\]^_`{|}~\\t\\n',\n",
    "      lower=True,\n",
    "      split=' ',\n",
    "      char_level=False,\n",
    "      oov_token=\"<oov>\",\n",
    "      analyzer=None,\n",
    "  )\n",
    "\n",
    "  # Updates internal vocabulary based on word frequencies in the text\n",
    "  tokenizer.fit_on_texts(text)\n",
    "  # Converts text into the model's integer inputs\n",
    "  sequence = tokenizer.texts_to_sequences(text)\n",
    "  # Adds pad values to sequences to fit into fixed 2-d tensors\n",
    "  pad_sequence = pad_sequences(sequence, padding=\"pre\", maxlen=max_length)\n",
    "\n",
    "  return pad_sequence\n",
    "\n",
    "x = convert_to_number(df[\"Texts\"])"
   ]
  },
  {
   "cell_type": "code",
   "execution_count": 24,
   "id": "eb4318ad-a63d-430a-9d13-c4c543d1aa99",
   "metadata": {},
   "outputs": [
    {
     "data": {
      "text/plain": [
       "(50000, 2000)"
      ]
     },
     "execution_count": 24,
     "metadata": {},
     "output_type": "execute_result"
    }
   ],
   "source": [
    "x.shape"
   ]
  },
  {
   "cell_type": "code",
   "execution_count": 26,
   "id": "d48d70b9-246a-4344-971b-fdc105f82ca3",
   "metadata": {},
   "outputs": [],
   "source": [
    "# sklearn utily that splits arrays into random train and test subsets\n",
    "# CURRENT SPLIT: test = 20%, train = 80%\n",
    "\n",
    "from sklearn.model_selection import train_test_split\n",
    "y = df[\"Label\"]\n",
    "x_train, x_test, y_train, y_test = train_test_split(x, y, test_size=0.2, random_state=32)"
   ]
  },
  {
   "cell_type": "code",
   "execution_count": null,
   "id": "ebec18c6-d40b-4243-a5e8-e834a80e4f52",
   "metadata": {},
   "outputs": [],
   "source": [
    "from keras.layers import LSTM, Bidirectional, Dense, Embedding, Flatten, LSTM, Dropout, GRU\n",
    "from keras.losses import BinaryCrossentropy\n",
    "from keras.optimizers import Adam\n",
    "from keras import Sequential\n",
    "from keras import Model\n",
    "from keras.callbacks import EarlyStopping\n",
    "\n",
    "# Stops learning process to prevent overfitting\n",
    "callback = EarlyStopping(patience=2, monitor='val_loss')\n",
    "\n",
    "# Defines model composed of sequential layers\n",
    "# Should be appropriate for single input (i.e. text analysis)\n",
    "model = Sequential([\n",
    "    Embedding(input_dim = vocabs, output_dim = 100, input_length=max_length),\n",
    "    LSTM(128, recurrent_activation=\"sigmoid\"),\n",
    "    Dense(128, activation=\"relu\"),\n",
    "    Dropout(0.2),\n",
    "    Dense(1, activation = \"sigmoid\"),\n",
    "])\n",
    "\n",
    "# Prints information on model\n",
    "model.summary()\n",
    "\n",
    "# Compiles model with chosen learning rate and loss function\n",
    "model.compile(optimizer=Adam(learning_rate=0.001),\n",
    "              loss=BinaryCrossentropy(),\n",
    "              metrics=[\"accuracy\"],\n",
    "              )\n",
    "\n",
    "# Train model with chosen parameters\n",
    "model.fit(x_train, y_train,\n",
    "          epochs=20,\n",
    "          validation_data=(x_test, y_test),\n",
    "          batch_size=32,\n",
    "          callbacks = callback\n",
    "          )"
   ]
  },
  {
   "cell_type": "code",
   "execution_count": null,
   "id": "28ba588b-c3cf-4472-ae8c-d4cc01348e31",
   "metadata": {},
   "outputs": [],
   "source": [
    "model.evaluate(x_test, y_test)"
   ]
  },
  {
   "cell_type": "code",
   "execution_count": null,
   "id": "38d2ba91-777c-4a58-a42d-c18d4a1e2af5",
   "metadata": {},
   "outputs": [],
   "source": [
    "# Save the model\n",
    "model.save('keras_model')\n",
    "\n",
    "# Load model:\n",
    "# model = keras.models.load_model('keras_model')"
   ]
  },
  {
   "cell_type": "code",
   "execution_count": null,
   "id": "067d7511-2f4e-41e2-bf46-98fe65cad67b",
   "metadata": {},
   "outputs": [],
   "source": [
    "from wordcloud import WordCloud, STOPWORDS\n",
    "\n",
    "# Function generates wordcloud with input data\n",
    "def wc(data,bgcolor):\n",
    "    plt.figure(figsize=(10,10))\n",
    "    wc=WordCloud(background_color=bgcolor,stopwords=STOPWORDS)\n",
    "    wc.generate(\" \".join(data))\n",
    "    plt.imshow(wc)\n",
    "    plt.axis(\"off\")"
   ]
  },
  {
   "cell_type": "code",
   "execution_count": null,
   "id": "3ac32002-f84b-435a-9b91-775efb4e0e69",
   "metadata": {},
   "outputs": [],
   "source": [
    "# WordCloud with most frequent words found in reviews with positive label\n",
    "df_positive = df[df['Label']==1]\n",
    "wc(df_positive.Texts, \"white\")"
   ]
  },
  {
   "cell_type": "code",
   "execution_count": null,
   "id": "ef8b5232-812f-4475-9033-5afdecb2e917",
   "metadata": {},
   "outputs": [],
   "source": [
    "# WordCloud with most frequent words found in reviews with negative label\n",
    "df_negative = df[df['Label']==0]\n",
    "wc(df_negative.Texts, \"white\")"
   ]
  },
  {
   "cell_type": "code",
   "execution_count": null,
   "id": "03f048df-4ca5-4adf-9970-c4b60a85e453",
   "metadata": {},
   "outputs": [],
   "source": [
    "# Aspects or themes to look for in review texts\n",
    "aspects = {\n",
    "    'music': [\n",
    "        'sound', 'music', 'audio', 'instrument', 'soundtrack', 'voice acting',\n",
    "        'song', 'sound effects', 'atmosphere', 'orchestra'\n",
    "        ],\n",
    "    'story': [\n",
    "        'story', 'plot', 'narrative', 'character', 'mission', 'quest', 'writing',\n",
    "        'dialogue', 'relationships', 'family', 'gods', 'lore', 'mythology', 'allies',\n",
    "        'npc'\n",
    "        ],\n",
    "    'game play': [\n",
    "        'gameplay', 'rogue-like', 'mechanics', 'controls', 'action', 'fight',\n",
    "        'fights', 'attack', 'battle', 'weapon', 'moves', 'power', 'combat', 'upgrade',\n",
    "        'multiplayer', 'pvp', 'pve', 'exploration'\n",
    "        ],\n",
    "    'visuals': [\n",
    "        'visuals', 'graphics', 'art', 'images', 'color', 'artwork', 'animation',\n",
    "        'lighting'\n",
    "        ],\n",
    "    'support': [\n",
    "        'optimization', 'performance', 'framerate', 'frames', 'lag', 'netcode',\n",
    "        'smooth', 'bugs', 'cheats', 'ban', 'developer', 'devs'\n",
    "    ],\n",
    "    'community': [\n",
    "        'community', 'player base', 'player count', 'friends', 'cheaters', 'hackers'\n",
    "    ]\n",
    "}\n",
    "\n",
    "custom_words = []\n",
    "for aspect_words in aspects.values():\n",
    "  custom_words.extend(aspect_words)"
   ]
  },
  {
   "cell_type": "code",
   "execution_count": null,
   "id": "6bd613ed-1f82-49c6-8162-7b948cfba1ec",
   "metadata": {},
   "outputs": [],
   "source": [
    "# Finds frequency of the aspects defined above in review texts\n",
    "def get_aspect_frequency(text):\n",
    "  text_data = ' '.join(text)\n",
    "  tokens = text_data.split()\n",
    "\n",
    "  aspect_freq = {}\n",
    "  for word in tokens:\n",
    "    if word in custom_words:\n",
    "      aspect_freq[word] = aspect_freq.get(word, 0) + 1\n",
    "  return aspect_freq"
   ]
  },
  {
   "cell_type": "code",
   "execution_count": null,
   "id": "0014029d-4078-490e-85a2-64770c34afcf",
   "metadata": {},
   "outputs": [],
   "source": [
    "wordcloud = WordCloud(width=800, height=400, background_color='white',\n",
    "                      contour_width=1, contour_color='steelblue',\n",
    "                      max_words=100, random_state=42)\n",
    "\n",
    "# Wordcloud of aspects mentioned in reviews with negative label\n",
    "neg_freq = get_aspect_frequency(df_negative['Texts'])\n",
    "wordcloud.generate_from_frequencies(neg_freq)\n",
    "\n",
    "# Display the word cloud\n",
    "plt.figure(figsize=(10, 6))\n",
    "plt.imshow(wordcloud, interpolation='bilinear')\n",
    "plt.axis('off')\n",
    "plt.show()"
   ]
  },
  {
   "cell_type": "code",
   "execution_count": null,
   "id": "6f52ebd2-40f7-46a5-91db-9f2a4f0362ea",
   "metadata": {},
   "outputs": [],
   "source": [
    "# Wordcloud of aspects mentioned in reviews with positive label\n",
    "pos_freq = get_aspect_frequency(df_positive['Texts'])\n",
    "wordcloud.generate_from_frequencies(pos_freq)\n",
    "\n",
    "# Display the word cloud\n",
    "plt.figure(figsize=(10, 6))\n",
    "plt.imshow(wordcloud, interpolation='bilinear')\n",
    "plt.axis('off')\n",
    "plt.show()"
   ]
  }
 ],
 "metadata": {
  "kernelspec": {
   "display_name": "TensorFlowGPU",
   "language": "python",
   "name": "tf_gpu"
  },
  "language_info": {
   "codemirror_mode": {
    "name": "ipython",
    "version": 3
   },
   "file_extension": ".py",
   "mimetype": "text/x-python",
   "name": "python",
   "nbconvert_exporter": "python",
   "pygments_lexer": "ipython3",
   "version": "3.10.14"
  }
 },
 "nbformat": 4,
 "nbformat_minor": 5
}
