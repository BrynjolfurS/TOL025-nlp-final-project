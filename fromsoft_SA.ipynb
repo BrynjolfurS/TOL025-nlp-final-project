{
 "cells": [
  {
   "cell_type": "code",
   "execution_count": 26,
   "id": "6bdc9598-7b97-4b36-be6c-83a79d258c2b",
   "metadata": {},
   "outputs": [
    {
     "ename": "ModuleNotFoundError",
     "evalue": "No module named 'nltk'",
     "output_type": "error",
     "traceback": [
      "\u001b[1;31m---------------------------------------------------------------------------\u001b[0m",
      "\u001b[1;31mModuleNotFoundError\u001b[0m                       Traceback (most recent call last)",
      "Cell \u001b[1;32mIn[26], line 16\u001b[0m\n\u001b[0;32m     14\u001b[0m \u001b[38;5;28;01mfrom\u001b[39;00m \u001b[38;5;21;01msklearn\u001b[39;00m\u001b[38;5;21;01m.\u001b[39;00m\u001b[38;5;21;01mcompose\u001b[39;00m \u001b[38;5;28;01mimport\u001b[39;00m ColumnTransformer\n\u001b[0;32m     15\u001b[0m \u001b[38;5;28;01mfrom\u001b[39;00m \u001b[38;5;21;01mscipy\u001b[39;00m\u001b[38;5;21;01m.\u001b[39;00m\u001b[38;5;21;01mstats\u001b[39;00m \u001b[38;5;28;01mimport\u001b[39;00m randint, uniform\n\u001b[1;32m---> 16\u001b[0m \u001b[38;5;28;01mfrom\u001b[39;00m \u001b[38;5;21;01mnltk\u001b[39;00m\u001b[38;5;21;01m.\u001b[39;00m\u001b[38;5;21;01mstem\u001b[39;00m \u001b[38;5;28;01mimport\u001b[39;00m WordNetLemmatizer\n\u001b[0;32m     17\u001b[0m \u001b[38;5;28;01mfrom\u001b[39;00m \u001b[38;5;21;01mnltk\u001b[39;00m\u001b[38;5;21;01m.\u001b[39;00m\u001b[38;5;21;01mtokenize\u001b[39;00m \u001b[38;5;28;01mimport\u001b[39;00m word_tokenize\n\u001b[0;32m     18\u001b[0m \u001b[38;5;28;01mfrom\u001b[39;00m \u001b[38;5;21;01mnltk\u001b[39;00m\u001b[38;5;21;01m.\u001b[39;00m\u001b[38;5;21;01mcorpus\u001b[39;00m \u001b[38;5;28;01mimport\u001b[39;00m stopwords\n",
      "\u001b[1;31mModuleNotFoundError\u001b[0m: No module named 'nltk'"
     ]
    }
   ],
   "source": [
    "## Focused analysis of FromSoftware games ##\n",
    "# https://github.com/jbloewencolon/Steam-Game-Review-Sentiment-Analysis/tree/main\n",
    "import pandas as pd\n",
    "import re\n",
    "import numpy as np\n",
    "#import nltk\n",
    "from sklearn.feature_extraction.text import TfidfVectorizer\n",
    "from sklearn.preprocessing import LabelEncoder, FunctionTransformer, StandardScaler\n",
    "from sklearn.base import TransformerMixin\n",
    "from sklearn.model_selection import train_test_split, GridSearchCV\n",
    "from sklearn.linear_model import LogisticRegression\n",
    "from sklearn.ensemble import RandomForestClassifier\n",
    "from sklearn.metrics import classification_report, confusion_matrix\n",
    "from sklearn.pipeline import Pipeline\n",
    "from sklearn.compose import ColumnTransformer\n",
    "from scipy.stats import randint, uniform\n",
    "from nltk.stem import WordNetLemmatizer\n",
    "from nltk.tokenize import word_tokenize\n",
    "from nltk.corpus import stopwords\n",
    "from nltk.probability import FreqDist\n",
    "from nltk.collocations import BigramAssocMeasures, BigramCollocationFinder\n",
    "from textblob import TextBlob, Blobber\n",
    "from textblob.sentiments import NaiveBayesAnalyzer\n",
    "from gensim.utils import simple_preprocess\n",
    "from gensim.parsing.preprocessing import STOPWORDS\n",
    "from gensim.corpora import Dictionary\n",
    "from gensim.models import LdaModel\n",
    "from gensim.models.phrases import Phrases\n",
    "from collections import Counter\n",
    "import random\n",
    "\n",
    "import seaborn as sns\n",
    "import matplotlib.pyplot as plt\n",
    "import warnings\n",
    "\n",
    "warnings.filterwarnings('ignore')"
   ]
  },
  {
   "cell_type": "code",
   "execution_count": 9,
   "id": "7f99ed08-b98b-406d-8501-7de22371f99f",
   "metadata": {},
   "outputs": [
    {
     "name": "stdout",
     "output_type": "stream",
     "text": [
      "<class 'pandas.core.frame.DataFrame'>\n",
      "RangeIndex: 333982 entries, 0 to 333981\n",
      "Data columns (total 25 columns):\n",
      " #   Column                          Non-Null Count   Dtype  \n",
      "---  ------                          --------------   -----  \n",
      " 0   Unnamed: 0                      333982 non-null  int64  \n",
      " 1   query_summary                   0 non-null       float64\n",
      " 2   cursors                         0 non-null       float64\n",
      " 3   recommendationid                333947 non-null  float64\n",
      " 4   language                        333947 non-null  object \n",
      " 5   review                          333118 non-null  object \n",
      " 6   timestamp_created               333947 non-null  float64\n",
      " 7   timestamp_updated               333947 non-null  float64\n",
      " 8   voted_up                        333947 non-null  object \n",
      " 9   votes_up                        333947 non-null  float64\n",
      " 10  votes_funny                     333947 non-null  float64\n",
      " 11  weighted_vote_score             333947 non-null  float64\n",
      " 12  comment_count                   333947 non-null  float64\n",
      " 13  steam_purchase                  333947 non-null  object \n",
      " 14  received_for_free               333947 non-null  object \n",
      " 15  written_during_early_access     333947 non-null  object \n",
      " 16  hidden_in_steam_china           333947 non-null  object \n",
      " 17  steam_china_location            0 non-null       float64\n",
      " 18  author.steamid                  333947 non-null  float64\n",
      " 19  author.num_games_owned          333947 non-null  float64\n",
      " 20  author.num_reviews              333947 non-null  float64\n",
      " 21  author.playtime_forever         333947 non-null  float64\n",
      " 22  author.playtime_last_two_weeks  333947 non-null  float64\n",
      " 23  author.playtime_at_review       333823 non-null  float64\n",
      " 24  author.last_played              333947 non-null  float64\n",
      "dtypes: float64(17), int64(1), object(7)\n",
      "memory usage: 63.7+ MB\n"
     ]
    },
    {
     "name": "stderr",
     "output_type": "stream",
     "text": [
      "C:\\Users\\brynj\\AppData\\Local\\Temp\\ipykernel_3292\\1699989045.py:1: DtypeWarning: Columns (8,13,14,15,16) have mixed types. Specify dtype option on import or set low_memory=False.\n",
      "  df = pd.read_csv('data/FromSoft_reviews.csv')\n"
     ]
    }
   ],
   "source": [
    "df = pd.read_csv('data/FromSoft_reviews.csv')\n",
    "df.info()"
   ]
  },
  {
   "cell_type": "code",
   "execution_count": 10,
   "id": "190856d9-5995-462d-8788-bc5615325f9f",
   "metadata": {},
   "outputs": [],
   "source": [
    "#Drop Nulls\n",
    "df.dropna(subset=['review'], inplace=True)\n",
    "\n",
    "#Keep only English reviews\n",
    "df = df[df['language'] == 'english']\n",
    "\n",
    "# Drop Unnecessary Columns\n",
    "#df = df.drop(df.columns[[0, 1, 2, 6, 7, 15, 16, 17]], axis=1)\n",
    "\n",
    "# Create a mask where each review has more than one word and at least one alphabetic character\n",
    "mask = df['review'].apply(lambda x: len(re.findall(r'\\b\\w+\\b', str(x))) > 5 and bool(re.search('[a-zA-Z]', str(x))))\n",
    "\n",
    "# Apply the mask to the DataFrame to filter out reviews\n",
    "df = df[mask]"
   ]
  },
  {
   "cell_type": "code",
   "execution_count": 11,
   "id": "a19af8ee-1bf6-4667-86c8-14544be8460d",
   "metadata": {},
   "outputs": [
    {
     "name": "stdout",
     "output_type": "stream",
     "text": [
      "<class 'pandas.core.frame.DataFrame'>\n",
      "Index: 206236 entries, 0 to 333981\n",
      "Data columns (total 25 columns):\n",
      " #   Column                          Non-Null Count   Dtype  \n",
      "---  ------                          --------------   -----  \n",
      " 0   Unnamed: 0                      206236 non-null  int64  \n",
      " 1   query_summary                   0 non-null       float64\n",
      " 2   cursors                         0 non-null       float64\n",
      " 3   recommendationid                206236 non-null  float64\n",
      " 4   language                        206236 non-null  object \n",
      " 5   review                          206236 non-null  object \n",
      " 6   timestamp_created               206236 non-null  float64\n",
      " 7   timestamp_updated               206236 non-null  float64\n",
      " 8   voted_up                        206236 non-null  object \n",
      " 9   votes_up                        206236 non-null  float64\n",
      " 10  votes_funny                     206236 non-null  float64\n",
      " 11  weighted_vote_score             206236 non-null  float64\n",
      " 12  comment_count                   206236 non-null  float64\n",
      " 13  steam_purchase                  206236 non-null  object \n",
      " 14  received_for_free               206236 non-null  object \n",
      " 15  written_during_early_access     206236 non-null  object \n",
      " 16  hidden_in_steam_china           206236 non-null  object \n",
      " 17  steam_china_location            0 non-null       float64\n",
      " 18  author.steamid                  206236 non-null  float64\n",
      " 19  author.num_games_owned          206236 non-null  float64\n",
      " 20  author.num_reviews              206236 non-null  float64\n",
      " 21  author.playtime_forever         206236 non-null  float64\n",
      " 22  author.playtime_last_two_weeks  206236 non-null  float64\n",
      " 23  author.playtime_at_review       206136 non-null  float64\n",
      " 24  author.last_played              206236 non-null  float64\n",
      "dtypes: float64(17), int64(1), object(7)\n",
      "memory usage: 40.9+ MB\n"
     ]
    }
   ],
   "source": [
    "# More thank 100k empty reviews dropped\n",
    "df.info()"
   ]
  },
  {
   "cell_type": "code",
   "execution_count": 12,
   "id": "4a5243e8-5a81-4e0f-95c7-f92947a23a60",
   "metadata": {},
   "outputs": [
    {
     "data": {
      "text/plain": [
       "count    2.062360e+05\n",
       "mean     8.872891e+03\n",
       "std      1.706273e+04\n",
       "min      5.000000e+00\n",
       "25%      2.685000e+03\n",
       "50%      5.202000e+03\n",
       "75%      1.015700e+04\n",
       "max      2.605646e+06\n",
       "Name: author.playtime_forever, dtype: float64"
      ]
     },
     "execution_count": 12,
     "metadata": {},
     "output_type": "execute_result"
    }
   ],
   "source": [
    "df['author.playtime_forever'].describe()"
   ]
  },
  {
   "cell_type": "code",
   "execution_count": 13,
   "id": "494770e7-2ac6-4653-87fe-35b7a7a62781",
   "metadata": {},
   "outputs": [
    {
     "data": {
      "text/plain": [
       "count    206236.000000\n",
       "mean         62.836930\n",
       "std         128.173951\n",
       "min           1.000000\n",
       "25%          10.000000\n",
       "50%          21.000000\n",
       "75%          57.000000\n",
       "max        2396.000000\n",
       "Name: review_length, dtype: float64"
      ]
     },
     "execution_count": 13,
     "metadata": {},
     "output_type": "execute_result"
    }
   ],
   "source": [
    "# Calculate the length of each review (in words)\n",
    "df['review_length'] = df['review'].apply(lambda x: len(x.split()))\n",
    "\n",
    "# Calculate the average length of reviews\n",
    "average_length = df['review_length'].mean()\n",
    "\n",
    "df['review_length'].describe()"
   ]
  },
  {
   "cell_type": "code",
   "execution_count": 21,
   "id": "28075f21-4a90-48e9-b83c-85c92f0c8e03",
   "metadata": {},
   "outputs": [
    {
     "name": "stdout",
     "output_type": "stream",
     "text": [
      "playtime_category\n",
      "0    68759\n",
      "2    68739\n",
      "1    68738\n",
      "Name: count, dtype: int64\n"
     ]
    }
   ],
   "source": [
    "# Calculate quantiles for playtime\n",
    "df['playtime_category'] = pd.qcut(df['author.playtime_forever'], 3, labels=False)\n",
    "\n",
    "# Check value counts\n",
    "print(df['playtime_category'].value_counts())"
   ]
  },
  {
   "cell_type": "code",
   "execution_count": 22,
   "id": "3f2c84f3-4046-4ef8-97ba-ce409c070efa",
   "metadata": {},
   "outputs": [
    {
     "ename": "NameError",
     "evalue": "name 'Pipeline' is not defined",
     "output_type": "error",
     "traceback": [
      "\u001b[1;31m---------------------------------------------------------------------------\u001b[0m",
      "\u001b[1;31mNameError\u001b[0m                                 Traceback (most recent call last)",
      "Cell \u001b[1;32mIn[22], line 3\u001b[0m\n\u001b[0;32m      1\u001b[0m \u001b[38;5;66;03m# Define preprocessing for text column\u001b[39;00m\n\u001b[0;32m      2\u001b[0m text_features \u001b[38;5;241m=\u001b[39m \u001b[38;5;124m'\u001b[39m\u001b[38;5;124mreview\u001b[39m\u001b[38;5;124m'\u001b[39m\n\u001b[1;32m----> 3\u001b[0m text_transformer \u001b[38;5;241m=\u001b[39m \u001b[43mPipeline\u001b[49m(steps\u001b[38;5;241m=\u001b[39m[\n\u001b[0;32m      4\u001b[0m     (\u001b[38;5;124m'\u001b[39m\u001b[38;5;124mtfidf\u001b[39m\u001b[38;5;124m'\u001b[39m, TfidfVectorizer(max_features\u001b[38;5;241m=\u001b[39m\u001b[38;5;241m2000\u001b[39m))\n\u001b[0;32m      5\u001b[0m ])\n\u001b[0;32m      7\u001b[0m \u001b[38;5;66;03m# Combine preprocessing steps\u001b[39;00m\n\u001b[0;32m      8\u001b[0m preprocessor \u001b[38;5;241m=\u001b[39m ColumnTransformer(\n\u001b[0;32m      9\u001b[0m     transformers\u001b[38;5;241m=\u001b[39m[\n\u001b[0;32m     10\u001b[0m         (\u001b[38;5;124m'\u001b[39m\u001b[38;5;124mtext\u001b[39m\u001b[38;5;124m'\u001b[39m, text_transformer, text_features)\n\u001b[0;32m     11\u001b[0m     ])\n",
      "\u001b[1;31mNameError\u001b[0m: name 'Pipeline' is not defined"
     ]
    }
   ],
   "source": [
    "# Define preprocessing for text column\n",
    "text_features = 'review'\n",
    "text_transformer = Pipeline(steps=[\n",
    "    ('tfidf', TfidfVectorizer(max_features=2000))\n",
    "])\n",
    "\n",
    "# Combine preprocessing steps\n",
    "preprocessor = ColumnTransformer(\n",
    "    transformers=[\n",
    "        ('text', text_transformer, text_features)\n",
    "    ])\n",
    "\n",
    "# Sample 75% of data\n",
    "df_sampled = df.sample(frac=0.30, random_state=42)"
   ]
  },
  {
   "cell_type": "code",
   "execution_count": null,
   "id": "790c45ea-6b8d-4dba-8833-6ccb2443130e",
   "metadata": {},
   "outputs": [],
   "source": []
  }
 ],
 "metadata": {
  "kernelspec": {
   "display_name": "Python 3 (ipykernel)",
   "language": "python",
   "name": "python3"
  },
  "language_info": {
   "codemirror_mode": {
    "name": "ipython",
    "version": 3
   },
   "file_extension": ".py",
   "mimetype": "text/x-python",
   "name": "python",
   "nbconvert_exporter": "python",
   "pygments_lexer": "ipython3",
   "version": "3.12.1"
  }
 },
 "nbformat": 4,
 "nbformat_minor": 5
}
